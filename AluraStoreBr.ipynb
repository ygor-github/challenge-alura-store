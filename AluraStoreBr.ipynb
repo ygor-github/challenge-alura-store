{
 "cells": [
  {
   "cell_type": "markdown",
   "metadata": {
    "id": "RhEdWd9YUR6H"
   },
   "source": [
    "## Importação dos dados\n",
    "\n"
   ]
  },
  {
   "cell_type": "code",
   "execution_count": 2,
   "metadata": {
    "colab": {
     "base_uri": "https://localhost:8080/",
     "height": 206
    },
    "id": "T3EvaeQ_INIL",
    "outputId": "7194bc65-372c-47e6-cb47-d4bfc9952c91",
    "scrolled": true
   },
   "outputs": [
    {
     "data": {
      "text/html": [
       "<div>\n",
       "<style scoped>\n",
       "    .dataframe tbody tr th:only-of-type {\n",
       "        vertical-align: middle;\n",
       "    }\n",
       "\n",
       "    .dataframe tbody tr th {\n",
       "        vertical-align: top;\n",
       "    }\n",
       "\n",
       "    .dataframe thead th {\n",
       "        text-align: right;\n",
       "    }\n",
       "</style>\n",
       "<table border=\"1\" class=\"dataframe\">\n",
       "  <thead>\n",
       "    <tr style=\"text-align: right;\">\n",
       "      <th></th>\n",
       "      <th>Produto</th>\n",
       "      <th>Categoria do Produto</th>\n",
       "      <th>Preço</th>\n",
       "      <th>Frete</th>\n",
       "      <th>Data da Compra</th>\n",
       "      <th>Vendedor</th>\n",
       "      <th>Local da compra</th>\n",
       "      <th>Avaliação da compra</th>\n",
       "      <th>Tipo de pagamento</th>\n",
       "      <th>Quantidade de parcelas</th>\n",
       "      <th>lat</th>\n",
       "      <th>lon</th>\n",
       "    </tr>\n",
       "  </thead>\n",
       "  <tbody>\n",
       "    <tr>\n",
       "      <th>0</th>\n",
       "      <td>Assistente virtual</td>\n",
       "      <td>eletronicos</td>\n",
       "      <td>219.08</td>\n",
       "      <td>9.249790</td>\n",
       "      <td>16/01/2021</td>\n",
       "      <td>Pedro Gomes</td>\n",
       "      <td>SP</td>\n",
       "      <td>4</td>\n",
       "      <td>cartao_credito</td>\n",
       "      <td>8</td>\n",
       "      <td>-22.19</td>\n",
       "      <td>-48.79</td>\n",
       "    </tr>\n",
       "    <tr>\n",
       "      <th>1</th>\n",
       "      <td>Mesa de jantar</td>\n",
       "      <td>moveis</td>\n",
       "      <td>256.35</td>\n",
       "      <td>11.234305</td>\n",
       "      <td>18/05/2022</td>\n",
       "      <td>Beatriz Moraes</td>\n",
       "      <td>RJ</td>\n",
       "      <td>1</td>\n",
       "      <td>cartao_credito</td>\n",
       "      <td>4</td>\n",
       "      <td>-22.25</td>\n",
       "      <td>-42.66</td>\n",
       "    </tr>\n",
       "    <tr>\n",
       "      <th>2</th>\n",
       "      <td>Jogo de tabuleiro</td>\n",
       "      <td>brinquedos</td>\n",
       "      <td>279.51</td>\n",
       "      <td>21.262681</td>\n",
       "      <td>15/03/2021</td>\n",
       "      <td>João Souza</td>\n",
       "      <td>DF</td>\n",
       "      <td>1</td>\n",
       "      <td>cartao_credito</td>\n",
       "      <td>1</td>\n",
       "      <td>-15.83</td>\n",
       "      <td>-47.86</td>\n",
       "    </tr>\n",
       "    <tr>\n",
       "      <th>3</th>\n",
       "      <td>Micro-ondas</td>\n",
       "      <td>eletrodomesticos</td>\n",
       "      <td>1009.99</td>\n",
       "      <td>54.667344</td>\n",
       "      <td>03/05/2022</td>\n",
       "      <td>João Souza</td>\n",
       "      <td>RS</td>\n",
       "      <td>4</td>\n",
       "      <td>boleto</td>\n",
       "      <td>1</td>\n",
       "      <td>-30.17</td>\n",
       "      <td>-53.50</td>\n",
       "    </tr>\n",
       "    <tr>\n",
       "      <th>4</th>\n",
       "      <td>Cadeira de escritório</td>\n",
       "      <td>moveis</td>\n",
       "      <td>446.99</td>\n",
       "      <td>26.964689</td>\n",
       "      <td>07/11/2020</td>\n",
       "      <td>Larissa Alves</td>\n",
       "      <td>MG</td>\n",
       "      <td>5</td>\n",
       "      <td>boleto</td>\n",
       "      <td>1</td>\n",
       "      <td>-18.10</td>\n",
       "      <td>-44.38</td>\n",
       "    </tr>\n",
       "  </tbody>\n",
       "</table>\n",
       "</div>"
      ],
      "text/plain": [
       "                 Produto Categoria do Produto    Preço      Frete  \\\n",
       "0     Assistente virtual          eletronicos   219.08   9.249790   \n",
       "1         Mesa de jantar               moveis   256.35  11.234305   \n",
       "2      Jogo de tabuleiro           brinquedos   279.51  21.262681   \n",
       "3            Micro-ondas     eletrodomesticos  1009.99  54.667344   \n",
       "4  Cadeira de escritório               moveis   446.99  26.964689   \n",
       "\n",
       "  Data da Compra        Vendedor Local da compra  Avaliação da compra  \\\n",
       "0     16/01/2021     Pedro Gomes              SP                    4   \n",
       "1     18/05/2022  Beatriz Moraes              RJ                    1   \n",
       "2     15/03/2021      João Souza              DF                    1   \n",
       "3     03/05/2022      João Souza              RS                    4   \n",
       "4     07/11/2020   Larissa Alves              MG                    5   \n",
       "\n",
       "  Tipo de pagamento  Quantidade de parcelas    lat    lon  \n",
       "0    cartao_credito                       8 -22.19 -48.79  \n",
       "1    cartao_credito                       4 -22.25 -42.66  \n",
       "2    cartao_credito                       1 -15.83 -47.86  \n",
       "3            boleto                       1 -30.17 -53.50  \n",
       "4            boleto                       1 -18.10 -44.38  "
      ]
     },
     "execution_count": 2,
     "metadata": {},
     "output_type": "execute_result"
    }
   ],
   "source": [
    "#Importando Dados\n",
    "import pandas as pd\n",
    "\n",
    "url = \"https://raw.githubusercontent.com/alura-es-cursos/challenge1-data-science/refs/heads/main/base-de-dados-challenge-1/loja_1.csv\"\n",
    "url2 = \"https://raw.githubusercontent.com/alura-es-cursos/challenge1-data-science/refs/heads/main/base-de-dados-challenge-1/loja_2.csv\"\n",
    "url3 = \"https://raw.githubusercontent.com/alura-es-cursos/challenge1-data-science/refs/heads/main/base-de-dados-challenge-1/loja_3.csv\"\n",
    "url4 = \"https://raw.githubusercontent.com/alura-es-cursos/challenge1-data-science/refs/heads/main/base-de-dados-challenge-1/loja_4.csv\"\n",
    "\n",
    "loja = pd.read_csv(url)\n",
    "loja2 = pd.read_csv(url2)\n",
    "loja3 = pd.read_csv(url3)\n",
    "loja4 = pd.read_csv(url4)\n",
    "\n",
    "loja.head()"
   ]
  },
  {
   "cell_type": "markdown",
   "metadata": {
    "id": "X62IW3KFUIYm"
   },
   "source": [
    "#1. Análise do faturamento\n"
   ]
  },
  {
   "cell_type": "code",
   "execution_count": 3,
   "metadata": {
    "id": "xykobSftV64I",
    "jupyter": {
     "source_hidden": true
    }
   },
   "outputs": [],
   "source": [
    "#Analizando faturamento\n",
    "vendas_por_loja = pd.DataFrame({\n",
    "    'Lojas': ['Loja 1','Loja 2','Loja 3','Loja 4'],\n",
    "    'Vendas': [\n",
    "        loja[\"Preço\"].sum(),\n",
    "        loja2[\"Preço\"].sum(),\n",
    "        loja3[\"Preço\"].sum(),\n",
    "        loja4[\"Preço\"].sum()\n",
    "    ]\n",
    "})\n",
    "# Formatando os valores com separador de milhar e vírgula como separador decimal\n",
    "vendas_formatadas_br = vendas_por_loja.copy()\n",
    "vendas_formatadas_br['Vendas'] = vendas_formatadas_br['Vendas'].apply(lambda x: f\"{x:,.2f}\".replace(\",\", \"X\").replace(\".\", \",\").replace(\"X\", \".\"))"
   ]
  },
  {
   "cell_type": "code",
   "execution_count": 4,
   "metadata": {
    "id": "KDyr8E71V3m-",
    "jupyter": {
     "source_hidden": true
    }
   },
   "outputs": [
    {
     "name": "stdout",
     "output_type": "stream",
     "text": [
      "\n",
      "Vendas totais por loja (ordenadas de forma decrescente):\n",
      "\n"
     ]
    },
    {
     "data": {
      "text/html": [
       "<div>\n",
       "<style scoped>\n",
       "    .dataframe tbody tr th:only-of-type {\n",
       "        vertical-align: middle;\n",
       "    }\n",
       "\n",
       "    .dataframe tbody tr th {\n",
       "        vertical-align: top;\n",
       "    }\n",
       "\n",
       "    .dataframe thead th {\n",
       "        text-align: right;\n",
       "    }\n",
       "</style>\n",
       "<table border=\"1\" class=\"dataframe\">\n",
       "  <thead>\n",
       "    <tr style=\"text-align: right;\">\n",
       "      <th></th>\n",
       "      <th>Lojas</th>\n",
       "      <th>Vendas</th>\n",
       "    </tr>\n",
       "  </thead>\n",
       "  <tbody>\n",
       "    <tr>\n",
       "      <th>0</th>\n",
       "      <td>Loja 1</td>\n",
       "      <td>1.534.509,12</td>\n",
       "    </tr>\n",
       "    <tr>\n",
       "      <th>1</th>\n",
       "      <td>Loja 2</td>\n",
       "      <td>1.488.459,06</td>\n",
       "    </tr>\n",
       "    <tr>\n",
       "      <th>2</th>\n",
       "      <td>Loja 3</td>\n",
       "      <td>1.464.025,03</td>\n",
       "    </tr>\n",
       "    <tr>\n",
       "      <th>3</th>\n",
       "      <td>Loja 4</td>\n",
       "      <td>1.384.497,58</td>\n",
       "    </tr>\n",
       "  </tbody>\n",
       "</table>\n",
       "</div>"
      ],
      "text/plain": [
       "    Lojas        Vendas\n",
       "0  Loja 1  1.534.509,12\n",
       "1  Loja 2  1.488.459,06\n",
       "2  Loja 3  1.464.025,03\n",
       "3  Loja 4  1.384.497,58"
      ]
     },
     "execution_count": 4,
     "metadata": {},
     "output_type": "execute_result"
    }
   ],
   "source": [
    "#Mostrando Vendas total por lojas:\n",
    "print(\"\\nVendas totais por loja (ordenadas de forma decrescente):\\n\")\n",
    "vendas_formatadas_br.sort_values(by='Vendas', ascending=False)"
   ]
  },
  {
   "cell_type": "markdown",
   "metadata": {
    "id": "2V_vcAPzWZmR"
   },
   "source": [
    "# 2. Vendas por Categoria\n"
   ]
  },
  {
   "cell_type": "code",
   "execution_count": 5,
   "metadata": {
    "id": "A34YupIuYhfF",
    "jupyter": {
     "source_hidden": true
    }
   },
   "outputs": [],
   "source": [
    "# Agrupando as vendas por categoria de produto em cada loja\n",
    "categoria_loja1 = loja.groupby('Categoria do Produto')['Preço'].sum()\n",
    "categoria_loja2 = loja2.groupby('Categoria do Produto')['Preço'].sum()\n",
    "categoria_loja3 = loja3.groupby('Categoria do Produto')['Preço'].sum()\n",
    "categoria_loja4 = loja4.groupby('Categoria do Produto')['Preço'].sum()\n",
    "\n",
    "# Juntando os dados em um único DataFrame\n",
    "vendas_categoria = pd.DataFrame({\n",
    "    'Loja 1': categoria_loja1,\n",
    "    'Loja 2': categoria_loja2,\n",
    "    'Loja 3': categoria_loja3,\n",
    "    'Loja 4': categoria_loja4\n",
    "})\n",
    "\n",
    "# Substituindo NaNs por 0\n",
    "vendas_categoria.fillna(0, inplace=True)\n",
    "\n",
    "# Somando as vendas totais por categoria\n",
    "vendas_categoria['Total'] = vendas_categoria.sum(axis=1)\n"
   ]
  },
  {
   "cell_type": "code",
   "execution_count": 6,
   "metadata": {
    "id": "yZR6cOjXYSk1",
    "jupyter": {
     "source_hidden": true
    }
   },
   "outputs": [
    {
     "name": "stdout",
     "output_type": "stream",
     "text": [
      "\n",
      "Vendas por categoria de produto em cada loja:\n",
      "\n"
     ]
    },
    {
     "data": {
      "text/html": [
       "<div>\n",
       "<style scoped>\n",
       "    .dataframe tbody tr th:only-of-type {\n",
       "        vertical-align: middle;\n",
       "    }\n",
       "\n",
       "    .dataframe tbody tr th {\n",
       "        vertical-align: top;\n",
       "    }\n",
       "\n",
       "    .dataframe thead th {\n",
       "        text-align: right;\n",
       "    }\n",
       "</style>\n",
       "<table border=\"1\" class=\"dataframe\">\n",
       "  <thead>\n",
       "    <tr style=\"text-align: right;\">\n",
       "      <th></th>\n",
       "      <th>Loja 1</th>\n",
       "      <th>Loja 2</th>\n",
       "      <th>Loja 3</th>\n",
       "      <th>Loja 4</th>\n",
       "      <th>Total</th>\n",
       "    </tr>\n",
       "    <tr>\n",
       "      <th>Categoria do Produto</th>\n",
       "      <th></th>\n",
       "      <th></th>\n",
       "      <th></th>\n",
       "      <th></th>\n",
       "      <th></th>\n",
       "    </tr>\n",
       "  </thead>\n",
       "  <tbody>\n",
       "    <tr>\n",
       "      <th>eletronicos</th>\n",
       "      <td>572659.23</td>\n",
       "      <td>547773.71</td>\n",
       "      <td>547699.92</td>\n",
       "      <td>545966.86</td>\n",
       "      <td>2214099.72</td>\n",
       "    </tr>\n",
       "    <tr>\n",
       "      <th>eletrodomesticos</th>\n",
       "      <td>484913.36</td>\n",
       "      <td>464758.13</td>\n",
       "      <td>438984.89</td>\n",
       "      <td>377680.65</td>\n",
       "      <td>1766337.03</td>\n",
       "    </tr>\n",
       "    <tr>\n",
       "      <th>moveis</th>\n",
       "      <td>250178.11</td>\n",
       "      <td>235234.68</td>\n",
       "      <td>268095.56</td>\n",
       "      <td>256705.65</td>\n",
       "      <td>1010214.00</td>\n",
       "    </tr>\n",
       "    <tr>\n",
       "      <th>instrumentos musicais</th>\n",
       "      <td>121731.69</td>\n",
       "      <td>139987.03</td>\n",
       "      <td>103174.45</td>\n",
       "      <td>100136.50</td>\n",
       "      <td>465029.67</td>\n",
       "    </tr>\n",
       "    <tr>\n",
       "      <th>esporte e lazer</th>\n",
       "      <td>52387.55</td>\n",
       "      <td>46326.09</td>\n",
       "      <td>47456.10</td>\n",
       "      <td>44465.65</td>\n",
       "      <td>190635.39</td>\n",
       "    </tr>\n",
       "    <tr>\n",
       "      <th>brinquedos</th>\n",
       "      <td>23993.78</td>\n",
       "      <td>21262.21</td>\n",
       "      <td>25869.20</td>\n",
       "      <td>27015.67</td>\n",
       "      <td>98140.86</td>\n",
       "    </tr>\n",
       "    <tr>\n",
       "      <th>utilidades domesticas</th>\n",
       "      <td>16931.48</td>\n",
       "      <td>19662.86</td>\n",
       "      <td>20080.21</td>\n",
       "      <td>20098.83</td>\n",
       "      <td>76773.38</td>\n",
       "    </tr>\n",
       "    <tr>\n",
       "      <th>livros</th>\n",
       "      <td>11713.92</td>\n",
       "      <td>13454.35</td>\n",
       "      <td>12664.70</td>\n",
       "      <td>12427.77</td>\n",
       "      <td>50260.74</td>\n",
       "    </tr>\n",
       "  </tbody>\n",
       "</table>\n",
       "</div>"
      ],
      "text/plain": [
       "                          Loja 1     Loja 2     Loja 3     Loja 4       Total\n",
       "Categoria do Produto                                                         \n",
       "eletronicos            572659.23  547773.71  547699.92  545966.86  2214099.72\n",
       "eletrodomesticos       484913.36  464758.13  438984.89  377680.65  1766337.03\n",
       "moveis                 250178.11  235234.68  268095.56  256705.65  1010214.00\n",
       "instrumentos musicais  121731.69  139987.03  103174.45  100136.50   465029.67\n",
       "esporte e lazer         52387.55   46326.09   47456.10   44465.65   190635.39\n",
       "brinquedos              23993.78   21262.21   25869.20   27015.67    98140.86\n",
       "utilidades domesticas   16931.48   19662.86   20080.21   20098.83    76773.38\n",
       "livros                  11713.92   13454.35   12664.70   12427.77    50260.74"
      ]
     },
     "execution_count": 6,
     "metadata": {},
     "output_type": "execute_result"
    }
   ],
   "source": [
    "# vendas por categoria de produto em cada loja\n",
    "\n",
    "print(\"\\nVendas por categoria de produto em cada loja:\\n\")\n",
    "vendas_categoria.sort_values(by='Total', ascending=False)\n"
   ]
  },
  {
   "cell_type": "markdown",
   "metadata": {
    "id": "Rq6tU_xSY3jk"
   },
   "source": [
    "# 3. Média de Avaliação das Lojas"
   ]
  },
  {
   "cell_type": "code",
   "execution_count": 7,
   "metadata": {
    "id": "bh3jjjJwY5MU",
    "jupyter": {
     "source_hidden": true
    },
    "scrolled": true
   },
   "outputs": [
    {
     "name": "stdout",
     "output_type": "stream",
     "text": [
      "\n",
      "⭐ Avaliação média por loja (de 1 a 5):\n",
      "\n"
     ]
    },
    {
     "data": {
      "text/html": [
       "<div>\n",
       "<style scoped>\n",
       "    .dataframe tbody tr th:only-of-type {\n",
       "        vertical-align: middle;\n",
       "    }\n",
       "\n",
       "    .dataframe tbody tr th {\n",
       "        vertical-align: top;\n",
       "    }\n",
       "\n",
       "    .dataframe thead th {\n",
       "        text-align: right;\n",
       "    }\n",
       "</style>\n",
       "<table border=\"1\" class=\"dataframe\">\n",
       "  <thead>\n",
       "    <tr style=\"text-align: right;\">\n",
       "      <th></th>\n",
       "      <th>Lojas</th>\n",
       "      <th>Media Avalc. Compra</th>\n",
       "    </tr>\n",
       "  </thead>\n",
       "  <tbody>\n",
       "    <tr>\n",
       "      <th>2</th>\n",
       "      <td>Loja 3</td>\n",
       "      <td>4.05</td>\n",
       "    </tr>\n",
       "    <tr>\n",
       "      <th>1</th>\n",
       "      <td>Loja 2</td>\n",
       "      <td>4.04</td>\n",
       "    </tr>\n",
       "    <tr>\n",
       "      <th>3</th>\n",
       "      <td>Loja 4</td>\n",
       "      <td>4.00</td>\n",
       "    </tr>\n",
       "    <tr>\n",
       "      <th>0</th>\n",
       "      <td>Loja 1</td>\n",
       "      <td>3.98</td>\n",
       "    </tr>\n",
       "  </tbody>\n",
       "</table>\n",
       "</div>"
      ],
      "text/plain": [
       "    Lojas  Media Avalc. Compra\n",
       "2  Loja 3                 4.05\n",
       "1  Loja 2                 4.04\n",
       "3  Loja 4                 4.00\n",
       "0  Loja 1                 3.98"
      ]
     },
     "execution_count": 7,
     "metadata": {},
     "output_type": "execute_result"
    }
   ],
   "source": [
    "# Calcular Avaliacao Média das lojas\n",
    "media_avaliacao_por_loja = pd.DataFrame({\n",
    "    'Lojas': ['Loja 1','Loja 2','Loja 3','Loja 4'],\n",
    "    'Media Avalc. Compra': [\n",
    "        loja[\"Avaliação da compra\"].mean(),\n",
    "        loja2[\"Avaliação da compra\"].mean(),\n",
    "        loja3[\"Avaliação da compra\"].mean(),\n",
    "        loja4[\"Avaliação da compra\"].mean()\n",
    "    ]\n",
    "})\n",
    "print(\"\\n⭐ Avaliação média por loja (de 1 a 5):\\n\")\n",
    "media_avaliacao_por_loja.sort_values(by='Media Avalc. Compra', ascending=False).round(2)"
   ]
  },
  {
   "cell_type": "markdown",
   "metadata": {
    "id": "DmNp1KPBZCm-"
   },
   "source": [
    "# 4. Produtos Mais e Menos Vendidos"
   ]
  },
  {
   "cell_type": "code",
   "execution_count": 8,
   "metadata": {
    "id": "qoyjqijQZHfF",
    "jupyter": {
     "source_hidden": true
    },
    "scrolled": true
   },
   "outputs": [
    {
     "name": "stdout",
     "output_type": "stream",
     "text": [
      "\n",
      "🔝 3 Produtos Mais Vendidos por Loja:\n",
      "\n"
     ]
    },
    {
     "data": {
      "text/html": [
       "<div>\n",
       "<style scoped>\n",
       "    .dataframe tbody tr th:only-of-type {\n",
       "        vertical-align: middle;\n",
       "    }\n",
       "\n",
       "    .dataframe tbody tr th {\n",
       "        vertical-align: top;\n",
       "    }\n",
       "\n",
       "    .dataframe thead tr th {\n",
       "        text-align: left;\n",
       "    }\n",
       "</style>\n",
       "<table border=\"1\" class=\"dataframe\">\n",
       "  <thead>\n",
       "    <tr>\n",
       "      <th></th>\n",
       "      <th colspan=\"2\" halign=\"left\">Loja 1</th>\n",
       "      <th colspan=\"2\" halign=\"left\">Loja 2</th>\n",
       "      <th colspan=\"2\" halign=\"left\">Loja 3</th>\n",
       "      <th colspan=\"2\" halign=\"left\">Loja 4</th>\n",
       "    </tr>\n",
       "    <tr>\n",
       "      <th></th>\n",
       "      <th>Produto</th>\n",
       "      <th>Qtd</th>\n",
       "      <th>Produto</th>\n",
       "      <th>Qtd</th>\n",
       "      <th>Produto</th>\n",
       "      <th>Qtd</th>\n",
       "      <th>Produto</th>\n",
       "      <th>Qtd</th>\n",
       "    </tr>\n",
       "  </thead>\n",
       "  <tbody>\n",
       "    <tr>\n",
       "      <th>0</th>\n",
       "      <td>Micro-ondas</td>\n",
       "      <td>60</td>\n",
       "      <td>Iniciando em programação</td>\n",
       "      <td>65</td>\n",
       "      <td>Kit banquetas</td>\n",
       "      <td>57</td>\n",
       "      <td>Cama box</td>\n",
       "      <td>62</td>\n",
       "    </tr>\n",
       "    <tr>\n",
       "      <th>1</th>\n",
       "      <td>TV Led UHD 4K</td>\n",
       "      <td>60</td>\n",
       "      <td>Micro-ondas</td>\n",
       "      <td>62</td>\n",
       "      <td>Mesa de jantar</td>\n",
       "      <td>56</td>\n",
       "      <td>Faqueiro</td>\n",
       "      <td>59</td>\n",
       "    </tr>\n",
       "    <tr>\n",
       "      <th>2</th>\n",
       "      <td>Guarda roupas</td>\n",
       "      <td>60</td>\n",
       "      <td>Bateria</td>\n",
       "      <td>61</td>\n",
       "      <td>Cama king</td>\n",
       "      <td>56</td>\n",
       "      <td>Dashboards com Power BI</td>\n",
       "      <td>56</td>\n",
       "    </tr>\n",
       "  </tbody>\n",
       "</table>\n",
       "</div>"
      ],
      "text/plain": [
       "          Loja 1                        Loja 2              Loja 3      \\\n",
       "         Produto Qtd                   Produto Qtd         Produto Qtd   \n",
       "0    Micro-ondas  60  Iniciando em programação  65   Kit banquetas  57   \n",
       "1  TV Led UHD 4K  60               Micro-ondas  62  Mesa de jantar  56   \n",
       "2  Guarda roupas  60                   Bateria  61       Cama king  56   \n",
       "\n",
       "                    Loja 4      \n",
       "                   Produto Qtd  \n",
       "0                 Cama box  62  \n",
       "1                 Faqueiro  59  \n",
       "2  Dashboards com Power BI  56  "
      ]
     },
     "metadata": {},
     "output_type": "display_data"
    }
   ],
   "source": [
    "# \"x\" Produtos mais vendidos\n",
    "\n",
    "x = 3\n",
    "\n",
    "mais_vendido_loja1 = loja['Produto'].value_counts().head(x).reset_index()\n",
    "mais_vendido_loja1.columns = ['Produto', 'Qtd']\n",
    "mais_vendido_loja2 = loja2['Produto'].value_counts().head(x).reset_index()\n",
    "mais_vendido_loja2.columns = ['Produto', 'Qtd']\n",
    "mais_vendido_loja3 = loja3['Produto'].value_counts().head(x).reset_index()\n",
    "mais_vendido_loja3.columns = ['Produto', 'Qtd']\n",
    "mais_vendido_loja4 = loja4['Produto'].value_counts().head(x).reset_index()\n",
    "mais_vendido_loja4.columns = ['Produto', 'Qtd']\n",
    "\n",
    "\n",
    "# Asignar MultiIndex a las columnas para cada loja\n",
    "mais_vendido_loja1.columns = pd.MultiIndex.from_product([['Loja 1'], mais_vendido_loja1.columns])\n",
    "mais_vendido_loja2.columns = pd.MultiIndex.from_product([['Loja 2'], mais_vendido_loja2.columns])\n",
    "mais_vendido_loja3.columns = pd.MultiIndex.from_product([['Loja 3'], mais_vendido_loja3.columns])\n",
    "mais_vendido_loja4.columns = pd.MultiIndex.from_product([['Loja 4'], mais_vendido_loja4.columns])\n",
    "\n",
    "# Concatenar lado a lado\n",
    "mais_vendidos_juntas = pd.concat([mais_vendido_loja1, mais_vendido_loja2, mais_vendido_loja3, mais_vendido_loja4], axis=1)\n",
    "print(f\"\\n🔝 {x} Produtos Mais Vendidos por Loja:\\n\")\n",
    "display(mais_vendidos_juntas)"
   ]
  },
  {
   "cell_type": "code",
   "execution_count": 9,
   "metadata": {
    "id": "0Sw3sd4IZIGW",
    "jupyter": {
     "source_hidden": true
    },
    "scrolled": true
   },
   "outputs": [
    {
     "name": "stdout",
     "output_type": "stream",
     "text": [
      "\n",
      "🔻 3 Produtos Menos Vendidos por Loja:\n",
      "\n"
     ]
    },
    {
     "data": {
      "text/html": [
       "<div>\n",
       "<style scoped>\n",
       "    .dataframe tbody tr th:only-of-type {\n",
       "        vertical-align: middle;\n",
       "    }\n",
       "\n",
       "    .dataframe tbody tr th {\n",
       "        vertical-align: top;\n",
       "    }\n",
       "\n",
       "    .dataframe thead tr th {\n",
       "        text-align: left;\n",
       "    }\n",
       "</style>\n",
       "<table border=\"1\" class=\"dataframe\">\n",
       "  <thead>\n",
       "    <tr>\n",
       "      <th></th>\n",
       "      <th colspan=\"2\" halign=\"left\">Loja 1</th>\n",
       "      <th colspan=\"2\" halign=\"left\">Loja 2</th>\n",
       "      <th colspan=\"2\" halign=\"left\">Loja 3</th>\n",
       "      <th colspan=\"2\" halign=\"left\">Loja 4</th>\n",
       "    </tr>\n",
       "    <tr>\n",
       "      <th></th>\n",
       "      <th>Produto</th>\n",
       "      <th>Qtd</th>\n",
       "      <th>Produto</th>\n",
       "      <th>Qtd</th>\n",
       "      <th>Produto</th>\n",
       "      <th>Qtd</th>\n",
       "      <th>Produto</th>\n",
       "      <th>Qtd</th>\n",
       "    </tr>\n",
       "  </thead>\n",
       "  <tbody>\n",
       "    <tr>\n",
       "      <th>0</th>\n",
       "      <td>Panela de pressão</td>\n",
       "      <td>35</td>\n",
       "      <td>Mesa de jantar</td>\n",
       "      <td>34</td>\n",
       "      <td>Mochila</td>\n",
       "      <td>36</td>\n",
       "      <td>Violão</td>\n",
       "      <td>37</td>\n",
       "    </tr>\n",
       "    <tr>\n",
       "      <th>1</th>\n",
       "      <td>Headset</td>\n",
       "      <td>33</td>\n",
       "      <td>Impressora</td>\n",
       "      <td>34</td>\n",
       "      <td>Micro-ondas</td>\n",
       "      <td>36</td>\n",
       "      <td>Guarda roupas</td>\n",
       "      <td>34</td>\n",
       "    </tr>\n",
       "    <tr>\n",
       "      <th>2</th>\n",
       "      <td>Celular ABXY</td>\n",
       "      <td>33</td>\n",
       "      <td>Jogo de tabuleiro</td>\n",
       "      <td>32</td>\n",
       "      <td>Blocos de montar</td>\n",
       "      <td>35</td>\n",
       "      <td>Guitarra</td>\n",
       "      <td>33</td>\n",
       "    </tr>\n",
       "  </tbody>\n",
       "</table>\n",
       "</div>"
      ],
      "text/plain": [
       "              Loja 1                 Loja 2                Loja 3      \\\n",
       "             Produto Qtd            Produto Qtd           Produto Qtd   \n",
       "0  Panela de pressão  35     Mesa de jantar  34           Mochila  36   \n",
       "1            Headset  33         Impressora  34       Micro-ondas  36   \n",
       "2       Celular ABXY  33  Jogo de tabuleiro  32  Blocos de montar  35   \n",
       "\n",
       "          Loja 4      \n",
       "         Produto Qtd  \n",
       "0         Violão  37  \n",
       "1  Guarda roupas  34  \n",
       "2       Guitarra  33  "
      ]
     },
     "metadata": {},
     "output_type": "display_data"
    }
   ],
   "source": [
    "# \"x\" Produtos menos vendidos\n",
    "\n",
    "menos_vendido_loja1 = loja['Produto'].value_counts().tail(x).reset_index()\n",
    "menos_vendido_loja1.columns = ['Produto', 'Qtd']\n",
    "menos_vendido_loja2 = loja2['Produto'].value_counts().tail(x).reset_index()\n",
    "menos_vendido_loja2.columns = ['Produto', 'Qtd']\n",
    "menos_vendido_loja3 = loja3['Produto'].value_counts().tail(x).reset_index()\n",
    "menos_vendido_loja3.columns = ['Produto', 'Qtd']\n",
    "menos_vendido_loja4 = loja4['Produto'].value_counts().tail(x).reset_index()\n",
    "menos_vendido_loja4.columns = ['Produto', 'Qtd']\n",
    "\n",
    "# Asignar MultiIndex a las columnas para cada loja\n",
    "menos_vendido_loja1.columns = pd.MultiIndex.from_product([['Loja 1'], menos_vendido_loja1.columns])\n",
    "menos_vendido_loja2.columns = pd.MultiIndex.from_product([['Loja 2'], menos_vendido_loja2.columns])\n",
    "menos_vendido_loja3.columns = pd.MultiIndex.from_product([['Loja 3'], menos_vendido_loja3.columns])\n",
    "menos_vendido_loja4.columns = pd.MultiIndex.from_product([['Loja 4'], menos_vendido_loja4.columns])\n",
    "\n",
    "# Concatenar lado a lado\n",
    "menos_vendidos_juntas = pd.concat([menos_vendido_loja1, menos_vendido_loja2, menos_vendido_loja3, menos_vendido_loja4], axis=1)\n",
    "print(f\"\\n🔻 {x} Produtos Menos Vendidos por Loja:\\n\")\n",
    "display(menos_vendidos_juntas)"
   ]
  },
  {
   "cell_type": "markdown",
   "metadata": {
    "id": "Fl0cGi3bZKqU"
   },
   "source": [
    "# 5. Frete Médio por Loja\n"
   ]
  },
  {
   "cell_type": "code",
   "execution_count": 10,
   "metadata": {
    "id": "S2JeaCykZNy9",
    "jupyter": {
     "source_hidden": true
    }
   },
   "outputs": [
    {
     "name": "stdout",
     "output_type": "stream",
     "text": [
      "\n",
      "Media do Valor do Frete por Loja:\n",
      "\n"
     ]
    },
    {
     "data": {
      "text/html": [
       "<div>\n",
       "<style scoped>\n",
       "    .dataframe tbody tr th:only-of-type {\n",
       "        vertical-align: middle;\n",
       "    }\n",
       "\n",
       "    .dataframe tbody tr th {\n",
       "        vertical-align: top;\n",
       "    }\n",
       "\n",
       "    .dataframe thead th {\n",
       "        text-align: right;\n",
       "    }\n",
       "</style>\n",
       "<table border=\"1\" class=\"dataframe\">\n",
       "  <thead>\n",
       "    <tr style=\"text-align: right;\">\n",
       "      <th></th>\n",
       "      <th>Lojas</th>\n",
       "      <th>Media do Frete</th>\n",
       "    </tr>\n",
       "  </thead>\n",
       "  <tbody>\n",
       "    <tr>\n",
       "      <th>0</th>\n",
       "      <td>Loja 1</td>\n",
       "      <td>R$ 34,69</td>\n",
       "    </tr>\n",
       "    <tr>\n",
       "      <th>1</th>\n",
       "      <td>Loja 2</td>\n",
       "      <td>R$ 33,62</td>\n",
       "    </tr>\n",
       "    <tr>\n",
       "      <th>2</th>\n",
       "      <td>Loja 3</td>\n",
       "      <td>R$ 33,07</td>\n",
       "    </tr>\n",
       "    <tr>\n",
       "      <th>3</th>\n",
       "      <td>Loja 4</td>\n",
       "      <td>R$ 31,28</td>\n",
       "    </tr>\n",
       "  </tbody>\n",
       "</table>\n",
       "</div>"
      ],
      "text/plain": [
       "    Lojas Media do Frete\n",
       "0  Loja 1       R$ 34,69\n",
       "1  Loja 2       R$ 33,62\n",
       "2  Loja 3       R$ 33,07\n",
       "3  Loja 4       R$ 31,28"
      ]
     },
     "execution_count": 10,
     "metadata": {},
     "output_type": "execute_result"
    }
   ],
   "source": [
    "#Calcular o custo médio de frete para cada loja\n",
    "frete_m_por_loja = pd.DataFrame({\n",
    "    'Lojas': ['Loja 1','Loja 2','Loja 3','Loja 4'],\n",
    "    'Media do Frete': [\n",
    "        loja[\"Frete\"].mean(),\n",
    "        loja2[\"Frete\"].mean(),\n",
    "        loja3[\"Frete\"].mean(),\n",
    "        loja4[\"Frete\"].mean()\n",
    "    ]\n",
    "})\n",
    "#Copiando para manter um dataset sem formatacao para graficos.\n",
    "frete_m_x_loja = frete_m_por_loja.copy()\n",
    "\n",
    "#Importando local para a fomatacao\n",
    "import locale\n",
    "# Configurando o locale para o formato brasileiro\n",
    "locale.setlocale(locale.LC_ALL, 'pt_BR.UTF-8')\n",
    "\n",
    "\n",
    "# Formatando a coluna 'Media do Frete' com a localidade\n",
    "frete_m_por_loja['Media do Frete'] = frete_m_por_loja['Media do Frete'].apply(lambda x: locale.currency(x, grouping=True))\n",
    "\n",
    "\n",
    "print(\"\\nMedia do Valor do Frete por Loja:\\n\")\n",
    "frete_m_por_loja.sort_values(by='Media do Frete', ascending=False).round(2)"
   ]
  },
  {
   "cell_type": "markdown",
   "metadata": {
    "id": "0tSdCie9ZQlt"
   },
   "source": [
    "# Analisis com gráficos"
   ]
  },
  {
   "cell_type": "code",
   "execution_count": 11,
   "metadata": {
    "jupyter": {
     "source_hidden": true
    }
   },
   "outputs": [],
   "source": [
    "#Importantdo pyplot da libraria matplotlib como plt\n",
    "import matplotlib.pyplot as plt\n",
    "\n",
    "# Função para formatar os rótulos\n",
    "def formatar_valor(pct, total):\n",
    "    valor_absoluto = int(pct / 100. * total)\n",
    "    return f'R$ {locale.format_string(\"%d\", valor_absoluto, grouping=True)} \\n({pct:.1f}%)'"
   ]
  },
  {
   "cell_type": "code",
   "execution_count": 12,
   "metadata": {
    "jupyter": {
     "source_hidden": true
    }
   },
   "outputs": [
    {
     "data": {
      "image/png": "[encoded data removed]",
      "text/plain": [
       "<Figure size 700x700 with 1 Axes>"
      ]
     },
     "metadata": {},
     "output_type": "display_data"
    }
   ],
   "source": [
    "#Mostrando as vendas por loja em grafico de pizza\n",
    "\n",
    "loja[\"Data da Compra\"] = pd.to_datetime(loja[\"Data da Compra\"], dayfirst=True)\n",
    "anos = list(set(loja[\"Data da Compra\"].dt.year))\n",
    "\n",
    "colors = ['#FF5722', '#FFC107', '#4CAF50', '#2196F3']\n",
    "\n",
    "plt.figure(figsize=(7, 7))\n",
    "plt.pie(vendas_por_loja['Vendas'], labels=vendas_por_loja['Lojas'], autopct=lambda p: formatar_valor(p, vendas_por_loja['Vendas'].sum()),colors=colors, startangle=90,shadow=True)\n",
    "plt.title(f'Distribuição de Vendas Totais por Loja \\n Do ano {anos[0]} ao {anos[-1]} ')\n",
    "\n",
    "# Tornar o fundo da figura semi-transparente\n",
    "plt.gcf().patch.set_facecolor((1, 1, 1, 0.8))  # Cor branca com 50% de transparência\n",
    "\n",
    "plt.show()"
   ]
  },
  {
   "cell_type": "code",
   "execution_count": 13,
   "metadata": {},
   "outputs": [
    {
     "data": {
      "image/png": "[encoded data removed]",
      "text/plain": [
       "<Figure size 600x500 with 1 Axes>"
      ]
     },
     "metadata": {},
     "output_type": "display_data"
    }
   ],
   "source": [
    "# Mostrando média das avalicaoes por loja com grafico de barras horizontal:\n",
    "#Criando grafico Bar\n",
    "plt.figure(figsize=(6, 5))\n",
    "plt.barh(media_avaliacao_por_loja[\"Lojas\"], media_avaliacao_por_loja[\"Media Avalc. Compra\"], color=colors)\n",
    "plt.title(f'Avaliacao média da compra por loja \\nRango de 0 ao 5 \\n Do ano {anos[0]} ao {anos[-1]}')\n",
    "plt.xlabel('Avaliacao média por compra')\n",
    "plt.ylabel('Lojas')\n",
    "\n",
    "# Adicionando os valores dentro das barras\n",
    "for index, value in enumerate(media_avaliacao_por_loja[\"Media Avalc. Compra\"]):\n",
    "    plt.text(value - 0.1, index, str(round(value,2)), va='center', ha='right', color='white', fontsize=14, fontweight='bold')  # 'ha' é a horizontal alignment\n",
    "\n",
    "# Tornar o fundo da figura semi-transparente\n",
    "plt.gcf().patch.set_facecolor((1, 1, 1, 0.8))  # Cor branca com 50% de transparência\n",
    "plt.show()\n"
   ]
  },
  {
   "cell_type": "code",
   "execution_count": 14,
   "metadata": {
    "jupyter": {
     "source_hidden": true
    }
   },
   "outputs": [
    {
     "data": {
      "image/png": "[encoded data removed]",
      "text/plain": [
       "<Figure size 650x500 with 1 Axes>"
      ]
     },
     "metadata": {},
     "output_type": "display_data"
    }
   ],
   "source": [
    "# Mostrando o Preco Médio do Frete por Loja con grafico de barras:\n",
    "plt.figure(figsize=(6.5, 5))\n",
    "plt.bar(frete_m_x_loja['Lojas'], frete_m_x_loja['Media do Frete'], color = colors)\n",
    "plt.title(f\"Preco Médio do Frete por Loja \\n Do ano {anos[0]} ao {anos[-1]}\")\n",
    "\n",
    "plt.xlabel(\"Lojas\")\n",
    "plt.ylabel(\"Média do Preco do Frete R$\")\n",
    "# Inserir os valores dentro de cada barra\n",
    "for i, valor in enumerate(frete_m_x_loja['Media do Frete']):\n",
    "    plt.text(i, valor / 2, str(round(valor,2)), ha='center',color='white', fontsize=14, fontweight='bold', rotation=0)\n",
    "\n",
    "# Tornar o fundo da figura semi-transparente\n",
    "plt.gcf().patch.set_facecolor((1, 1, 1, 0.8))  # Cor branca com 50% de transparência\n",
    "\n",
    "plt.show()"
   ]
  },
  {
   "cell_type": "code",
   "execution_count": null,
   "metadata": {},
   "outputs": [],
   "source": []
  },
  {
   "cell_type": "code",
   "execution_count": null,
   "metadata": {},
   "outputs": [],
   "source": []
  },
  {
   "cell_type": "code",
   "execution_count": null,
   "metadata": {},
   "outputs": [],
   "source": []
  },
  {
   "cell_type": "code",
   "execution_count": null,
   "metadata": {},
   "outputs": [],
   "source": []
  },
  {
   "cell_type": "code",
   "execution_count": null,
   "metadata": {},
   "outputs": [],
   "source": []
  }
 ],
 "metadata": {
  "colab": {
   "provenance": []
  },
  "kernelspec": {
   "display_name": "Python (mi_entorno)",
   "language": "python",
   "name": "mi_entorno"
  },
  "language_info": {
   "codemirror_mode": {
    "name": "ipython",
    "version": 3
   },
   "file_extension": ".py",
   "mimetype": "text/x-python",
   "name": "python",
   "nbconvert_exporter": "python",
   "pygments_lexer": "ipython3",
   "version": "3.13.2"
  }
 },
 "nbformat": 4,
 "nbformat_minor": 4
}
